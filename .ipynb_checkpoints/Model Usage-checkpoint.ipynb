{
 "cells": [
  {
   "cell_type": "code",
   "execution_count": 3,
   "id": "29bf4ef9-2d81-4d5f-b6bb-d3f036c10005",
   "metadata": {},
   "outputs": [],
   "source": [
    "from joblib import dump,load\n",
    "import numpy as np\n",
    "model=load('Dragon.joblib')\n",
    "features = np.array([[-0.43942006,  3.12628155, -1.12165014, -0.27288841, -1.42262747,\n",
    "                   -0.23979304, -1.31238772,  2.61111401, -1.0016859 , -0.5778192 ,\n",
    "                   -0.97491834, 0.41164221, -0.86091034]])\n",
    "\n",
    "# Ensure that the input is a 2D array with shape (1, 13)\n",
    "#input = np.reshape(input, (1, -1))\n",
    "\n",
    "# Now you can make predictions\n",
    "predictions = model.predict(features)\n",
    "predictions"
   ]
  },
  {
   "cell_type": "code",
   "execution_count": 14,
   "id": "9ab0f361-49a8-4066-99e8-5818aafbde72",
   "metadata": {},
   "outputs": [],
   "source": [
    "features = np.array([[-0.43942006,  3.12628155, -1.12165014, -0.27288841, -1.42262747,\n",
    "                   -0.23979304, -1.31238772,  2.61111401, -1.0016859 , -0.5778192 ,\n",
    "                   -0.97491834, 0.41164221, -0.86091034]])\n",
    "\n",
    "# Ensure that the input is a 2D array with shape (1, 13)\n",
    "#input = np.reshape(input, (1, -1))\n",
    "\n",
    "# Now you can make predictions\n",
    "predictions = model.predict(features)\n"
   ]
  },
  {
   "cell_type": "code",
   "execution_count": 15,
   "id": "321bedbd-8663-44dd-9170-16092a2a5a70",
   "metadata": {},
   "outputs": [
    {
     "data": {
      "text/plain": [
       "array([22.594])"
      ]
     },
     "execution_count": 15,
     "metadata": {},
     "output_type": "execute_result"
    }
   ],
   "source": [
    "predictions"
   ]
  },
  {
   "cell_type": "code",
   "execution_count": null,
   "id": "c893fdf6-93ed-4489-ac41-3e02fd45970a",
   "metadata": {},
   "outputs": [],
   "source": []
  }
 ],
 "metadata": {
  "kernelspec": {
   "display_name": "Python 3 (ipykernel)",
   "language": "python",
   "name": "python3"
  },
  "language_info": {
   "codemirror_mode": {
    "name": "ipython",
    "version": 3
   },
   "file_extension": ".py",
   "mimetype": "text/x-python",
   "name": "python",
   "nbconvert_exporter": "python",
   "pygments_lexer": "ipython3",
   "version": "3.12.0"
  }
 },
 "nbformat": 4,
 "nbformat_minor": 5
}
